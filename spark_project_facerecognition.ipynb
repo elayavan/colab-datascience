{
  "nbformat": 4,
  "nbformat_minor": 0,
  "metadata": {
    "colab": {
      "provenance": [],
      "authorship_tag": "ABX9TyOSNzCRf4blklfMoFT1v67u",
      "include_colab_link": true
    },
    "kernelspec": {
      "name": "python3",
      "display_name": "Python 3"
    },
    "language_info": {
      "name": "python"
    }
  },
  "cells": [
    {
      "cell_type": "markdown",
      "metadata": {
        "id": "view-in-github",
        "colab_type": "text"
      },
      "source": [
        "<a href=\"https://colab.research.google.com/github/elayavan/colab-datascience/blob/main/spark_project_facerecognition.ipynb\" target=\"_parent\"><img src=\"https://colab.research.google.com/assets/colab-badge.svg\" alt=\"Open In Colab\"/></a>"
      ]
    },
    {
      "cell_type": "markdown",
      "source": [
        "# Image Recognition with Python, OpenCV, OpenAI CLIP model and PostgreSQL pgvector\n",
        "\n"
      ],
      "metadata": {
        "id": "YIqXUX-ifH7v"
      }
    },
    {
      "cell_type": "code",
      "source": [
        "from IPython.display import HTML\n",
        "\n",
        "HTML('<iframe width=\"560\" height=\"315\" src=\"https://www.youtube.com/embed/Y0dLgtF4IHM?si=c1XKWe57Qh0gWRQo\" title=\"YouTube video player\" \\\n",
        " frameborder=\"0\" allow=\"accelerometer; autoplay; clipboard-write; encrypted-media; gyroscope; picture-in-picture; web-share\" \\\n",
        "  referrerpolicy=\"strict-origin-when-cross-origin\" allowfullscreen></iframe>')\n"
      ],
      "metadata": {
        "colab": {
          "base_uri": "https://localhost:8080/",
          "height": 337
        },
        "id": "48Db9YNSferH",
        "outputId": "7f33159a-5cec-4494-cea1-fb814fb3afe1"
      },
      "execution_count": 11,
      "outputs": [
        {
          "output_type": "execute_result",
          "data": {
            "text/plain": [
              "<IPython.core.display.HTML object>"
            ],
            "text/html": [
              "<iframe width=\"560\" height=\"315\" src=\"https://www.youtube.com/embed/Y0dLgtF4IHM?si=c1XKWe57Qh0gWRQo\" title=\"YouTube video player\"  frameborder=\"0\" allow=\"accelerometer; autoplay; clipboard-write; encrypted-media; gyroscope; picture-in-picture; web-share\"   referrerpolicy=\"strict-origin-when-cross-origin\" allowfullscreen></iframe>"
            ]
          },
          "metadata": {},
          "execution_count": 11
        }
      ]
    },
    {
      "cell_type": "markdown",
      "source": [
        "[Click here to access the Google Colab Notebook](https://colab.research.google.com/drive/19ulJqMQqk4PfcTx1v3C3cxjvzokrKgZS?usp=sharing)"
      ],
      "metadata": {
        "id": "YSPOinq0kO2N"
      }
    },
    {
      "cell_type": "markdown",
      "source": [
        "# Step 0: Install Requirements"
      ],
      "metadata": {
        "id": "uBFBwgp6fyfu"
      }
    },
    {
      "cell_type": "code",
      "source": [
        "!pip install opencv-python imgbeddings psycopg2-binary"
      ],
      "metadata": {
        "id": "BNxOnhIBf6ug"
      },
      "execution_count": null,
      "outputs": []
    },
    {
      "cell_type": "markdown",
      "source": [
        "## Step 1: Face recognition\n",
        "\n",
        "Detect the faces from the [test-image](test-image.png) picture and store them under the `stored-faces` folder"
      ],
      "metadata": {
        "id": "qmNnjrGVkljC"
      }
    },
    {
      "cell_type": "code",
      "source": [],
      "metadata": {
        "id": "73VpYnmFkvsM"
      },
      "execution_count": null,
      "outputs": []
    }
  ]
}